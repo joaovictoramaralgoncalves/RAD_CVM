{
 "cells": [
  {
   "cell_type": "code",
   "execution_count": 1,
   "id": "2b7bfc46",
   "metadata": {},
   "outputs": [],
   "source": [
    "import time\n",
    "import requests\n",
    "from bs4 import BeautifulSoup\n",
    "from selenium import webdriver\n",
    "from selenium.webdriver.chrome.options import Options\n",
    "\n",
    "from selenium import webdriver\n",
    "from selenium.webdriver.common.by import By\n",
    "from selenium.webdriver.common.keys import Keys\n",
    "from selenium.webdriver.support.ui import Select\n",
    "from selenium.common.exceptions import NoSuchElementException\n",
    "from selenium.common.exceptions import NoAlertPresentException\n",
    "import unittest, time, re"
   ]
  },
  {
   "cell_type": "code",
   "execution_count": 2,
   "id": "3b02d8ef",
   "metadata": {},
   "outputs": [],
   "source": [
    "## NAVEGADOR\n",
    "\n",
    "options = Options()\n",
    "#options.add_argument('--headless')    #Não mostrar navegador\n",
    "options.add_argument('window-size=400,800')"
   ]
  },
  {
   "cell_type": "code",
   "execution_count": 3,
   "id": "b29ed933",
   "metadata": {},
   "outputs": [
    {
     "name": "stderr",
     "output_type": "stream",
     "text": [
      "C:\\Users\\jotaa\\AppData\\Local\\Temp/ipykernel_13016/1421030423.py:5: DeprecationWarning: executable_path has been deprecated, please pass in a Service object\n",
      "  navegador = webdriver.Chrome('C:/Users/jotaa/Desktop/Novapasta/chromedriver.exe', options=options)\n"
     ]
    }
   ],
   "source": [
    "## FAZENDO A CONSULTA\n",
    "\n",
    "# Abrindo navegador\n",
    "    # onde o .exe do webdriver está\n",
    "navegador = webdriver.Chrome('C:/Users/jotaa/Desktop/Novapasta/chromedriver.exe', options=options)\n",
    "    # abrindo a página que quero captar\n",
    "navegador.get('https://www.rad.cvm.gov.br/ENET/frmConsultaExternaCVM.aspx')\n",
    "\n",
    "# Tempo para carregar a API\n",
    "time.sleep(15)\n",
    "\n",
    "# Selecionando empresa\n",
    "navegador.find_element(By.ID, \"cboEmpresa\").click()\n",
    "    # se não quiser selecionar, basta colocar a linha a baixo como comentário\n",
    "#navegador.find_element(By.ID,\"cboEmpresa\").send_keys(\"023540\" + Keys.DOWN + Keys.ENTER)\n",
    "navegador.find_element(By.ID,\"cboEmpresa\").send_keys(Keys.DOWN + Keys.ENTER)\n",
    "\n",
    "# Selecionando apenas informações do dia atual\n",
    "navegador.find_element(By.ID, \"rdDia\").click()\n",
    "\n",
    "# Clicando em consultar\n",
    "navegador.find_element(By.ID, \"btnConsulta\").click()"
   ]
  },
  {
   "cell_type": "code",
   "execution_count": 4,
   "id": "a82ac258",
   "metadata": {},
   "outputs": [
    {
     "name": "stdout",
     "output_type": "stream",
     "text": [
      "05560-3\n",
      "JEFFERIES FINANCIAL GROUP INC\n",
      "Comunicado ao Mercado\n",
      "Outros Comunicados Não Considerados Fatos Relevantes\n",
      "4\n",
      " - \n",
      "20220827\n",
      " 27/08/2022\n",
      "20220827\n",
      " 27/08/2022 00:06\n",
      "Ativo\n",
      "1\n",
      "AP\n",
      " \n",
      " \n",
      " \n",
      " \n",
      "  Assunto(s):  4\n",
      "02192-0\n",
      "BARI SECURITIZADORA S.A.\n",
      "FRE - Formulário de Referência\n",
      " - \n",
      " - \n",
      "20220101\n",
      " 2022\n",
      "20220827\n",
      " 27/08/2022 00:05\n",
      "Ativo\n",
      "5\n",
      "RE\n",
      " \n",
      " \n",
      " \n"
     ]
    }
   ],
   "source": [
    "## RASPAGEM + FILTRO + PRINT\n",
    "\n",
    "#tempo\n",
    "time.sleep(1)\n",
    "\n",
    "\n",
    "# Raspando o site\n",
    "site = BeautifulSoup(navegador.page_source, 'html.parser')\n",
    "# Filtrando table\n",
    "tabela = site.find('table', attrs= {'id':'grdDocumentos'})\n",
    "#print(tabela.prettify())        # Imprimir HTML referente à table\n",
    "\n",
    "\n",
    "# Filtrando o corpo da tabela\n",
    "tabela2 = tabela.find('tbody')\n",
    "# Imprimindo cada resultado de string da pesquisa\n",
    "for t in tabela2.strings:\n",
    "    print(t)\n",
    "    \n"
   ]
  },
  {
   "cell_type": "code",
   "execution_count": 5,
   "id": "7e5dc524",
   "metadata": {},
   "outputs": [
    {
     "data": {
      "text/plain": [
       "'05560-3JEFFERIES FINANCIAL GROUP INCComunicado ao MercadoOutros Comunicados Não Considerados Fatos Relevantes4-2022082727/08/20222022082727/08/2022 00:06Ativo1APAssunto(s): \\xa0402192-0BARI SECURITIZADORA S.A.FRE - Formulário de Referência--2022010120222022082727/08/2022 00:05Ativo5RE'"
      ]
     },
     "execution_count": 5,
     "metadata": {},
     "output_type": "execute_result"
    }
   ],
   "source": [
    "# Se eu quiser pegar só o texto da página sem formatação\n",
    "tabela2.get_text(strip=True)\n"
   ]
  },
  {
   "cell_type": "code",
   "execution_count": 6,
   "id": "b828ed8a",
   "metadata": {},
   "outputs": [],
   "source": [
    "# Se quiser deixar cada linha separada\n",
    "df = [text for text in tabela2.strings]"
   ]
  },
  {
   "cell_type": "code",
   "execution_count": 7,
   "id": "ecf8a087",
   "metadata": {},
   "outputs": [
    {
     "name": "stdout",
     "output_type": "stream",
     "text": [
      "['05560-3', 'JEFFERIES FINANCIAL GROUP INC', 'Comunicado ao Mercado', 'Outros Comunicados Não Considerados Fatos Relevantes', '4', ' - ', '20220827', ' 27/08/2022', '20220827', ' 27/08/2022 00:06', 'Ativo', '1', 'AP', ' ', ' ', ' ', ' ', '\\xa0\\xa0Assunto(s): \\xa04', '02192-0', 'BARI SECURITIZADORA S.A.', 'FRE - Formulário de Referência', ' - ', ' - ', '20220101', ' 2022', '20220827', ' 27/08/2022 00:05', 'Ativo', '5', 'RE', ' ', ' ', ' ']\n"
     ]
    }
   ],
   "source": [
    "print(df)"
   ]
  },
  {
   "cell_type": "code",
   "execution_count": 8,
   "id": "b8b94678",
   "metadata": {},
   "outputs": [
    {
     "name": "stdout",
     "output_type": "stream",
     "text": [
      "Requirement already satisfied: openpyxl in c:\\users\\jotaa\\anaconda3\\lib\\site-packages (3.0.9)\n",
      "Requirement already satisfied: et-xmlfile in c:\\users\\jotaa\\anaconda3\\lib\\site-packages (from openpyxl) (1.1.0)\n"
     ]
    }
   ],
   "source": [
    "!pip install openpyxl\n",
    "\n",
    "import pandas as pd\n",
    "import openpyxl\n",
    "\n",
    "\n",
    "## TRANSFORMANDO RESULTADO EM DATAFRAME\n",
    "l = []\n",
    "for j in df:\n",
    "    l.append(j)\n",
    "\n",
    "cvm = pd.DataFrame(l)"
   ]
  },
  {
   "cell_type": "code",
   "execution_count": null,
   "id": "4ad5003e",
   "metadata": {},
   "outputs": [],
   "source": [
    "# SALVANDO NO EXCEL\n",
    "with pd.ExcelWriter('CVM_dados.xlsx') as writer:\n",
    "    cvm.to_excel(writer, sheet_name= 'sheet_1')\n"
   ]
  },
  {
   "cell_type": "code",
   "execution_count": 9,
   "id": "69d111b0",
   "metadata": {},
   "outputs": [
    {
     "data": {
      "text/html": [
       "<div>\n",
       "<style scoped>\n",
       "    .dataframe tbody tr th:only-of-type {\n",
       "        vertical-align: middle;\n",
       "    }\n",
       "\n",
       "    .dataframe tbody tr th {\n",
       "        vertical-align: top;\n",
       "    }\n",
       "\n",
       "    .dataframe thead th {\n",
       "        text-align: right;\n",
       "    }\n",
       "</style>\n",
       "<table border=\"1\" class=\"dataframe\">\n",
       "  <thead>\n",
       "    <tr style=\"text-align: right;\">\n",
       "      <th></th>\n",
       "      <th>0</th>\n",
       "    </tr>\n",
       "  </thead>\n",
       "  <tbody>\n",
       "    <tr>\n",
       "      <th>0</th>\n",
       "      <td>05560-3</td>\n",
       "    </tr>\n",
       "    <tr>\n",
       "      <th>1</th>\n",
       "      <td>JEFFERIES FINANCIAL GROUP INC</td>\n",
       "    </tr>\n",
       "    <tr>\n",
       "      <th>2</th>\n",
       "      <td>Comunicado ao Mercado</td>\n",
       "    </tr>\n",
       "    <tr>\n",
       "      <th>3</th>\n",
       "      <td>Outros Comunicados Não Considerados Fatos Rele...</td>\n",
       "    </tr>\n",
       "    <tr>\n",
       "      <th>4</th>\n",
       "      <td>4</td>\n",
       "    </tr>\n",
       "    <tr>\n",
       "      <th>5</th>\n",
       "      <td>-</td>\n",
       "    </tr>\n",
       "    <tr>\n",
       "      <th>6</th>\n",
       "      <td>20220827</td>\n",
       "    </tr>\n",
       "    <tr>\n",
       "      <th>7</th>\n",
       "      <td>27/08/2022</td>\n",
       "    </tr>\n",
       "    <tr>\n",
       "      <th>8</th>\n",
       "      <td>20220827</td>\n",
       "    </tr>\n",
       "    <tr>\n",
       "      <th>9</th>\n",
       "      <td>27/08/2022 00:06</td>\n",
       "    </tr>\n",
       "    <tr>\n",
       "      <th>10</th>\n",
       "      <td>Ativo</td>\n",
       "    </tr>\n",
       "    <tr>\n",
       "      <th>11</th>\n",
       "      <td>1</td>\n",
       "    </tr>\n",
       "    <tr>\n",
       "      <th>12</th>\n",
       "      <td>AP</td>\n",
       "    </tr>\n",
       "    <tr>\n",
       "      <th>13</th>\n",
       "      <td></td>\n",
       "    </tr>\n",
       "    <tr>\n",
       "      <th>14</th>\n",
       "      <td></td>\n",
       "    </tr>\n",
       "    <tr>\n",
       "      <th>15</th>\n",
       "      <td></td>\n",
       "    </tr>\n",
       "    <tr>\n",
       "      <th>16</th>\n",
       "      <td></td>\n",
       "    </tr>\n",
       "    <tr>\n",
       "      <th>17</th>\n",
       "      <td>Assunto(s):  4</td>\n",
       "    </tr>\n",
       "    <tr>\n",
       "      <th>18</th>\n",
       "      <td>02192-0</td>\n",
       "    </tr>\n",
       "    <tr>\n",
       "      <th>19</th>\n",
       "      <td>BARI SECURITIZADORA S.A.</td>\n",
       "    </tr>\n",
       "    <tr>\n",
       "      <th>20</th>\n",
       "      <td>FRE - Formulário de Referência</td>\n",
       "    </tr>\n",
       "    <tr>\n",
       "      <th>21</th>\n",
       "      <td>-</td>\n",
       "    </tr>\n",
       "    <tr>\n",
       "      <th>22</th>\n",
       "      <td>-</td>\n",
       "    </tr>\n",
       "    <tr>\n",
       "      <th>23</th>\n",
       "      <td>20220101</td>\n",
       "    </tr>\n",
       "    <tr>\n",
       "      <th>24</th>\n",
       "      <td>2022</td>\n",
       "    </tr>\n",
       "    <tr>\n",
       "      <th>25</th>\n",
       "      <td>20220827</td>\n",
       "    </tr>\n",
       "    <tr>\n",
       "      <th>26</th>\n",
       "      <td>27/08/2022 00:05</td>\n",
       "    </tr>\n",
       "    <tr>\n",
       "      <th>27</th>\n",
       "      <td>Ativo</td>\n",
       "    </tr>\n",
       "    <tr>\n",
       "      <th>28</th>\n",
       "      <td>5</td>\n",
       "    </tr>\n",
       "    <tr>\n",
       "      <th>29</th>\n",
       "      <td>RE</td>\n",
       "    </tr>\n",
       "    <tr>\n",
       "      <th>30</th>\n",
       "      <td></td>\n",
       "    </tr>\n",
       "    <tr>\n",
       "      <th>31</th>\n",
       "      <td></td>\n",
       "    </tr>\n",
       "    <tr>\n",
       "      <th>32</th>\n",
       "      <td></td>\n",
       "    </tr>\n",
       "  </tbody>\n",
       "</table>\n",
       "</div>"
      ],
      "text/plain": [
       "                                                    0\n",
       "0                                             05560-3\n",
       "1                       JEFFERIES FINANCIAL GROUP INC\n",
       "2                               Comunicado ao Mercado\n",
       "3   Outros Comunicados Não Considerados Fatos Rele...\n",
       "4                                                   4\n",
       "5                                                  - \n",
       "6                                            20220827\n",
       "7                                          27/08/2022\n",
       "8                                            20220827\n",
       "9                                    27/08/2022 00:06\n",
       "10                                              Ativo\n",
       "11                                                  1\n",
       "12                                                 AP\n",
       "13                                                   \n",
       "14                                                   \n",
       "15                                                   \n",
       "16                                                   \n",
       "17                                     Assunto(s):  4\n",
       "18                                            02192-0\n",
       "19                           BARI SECURITIZADORA S.A.\n",
       "20                     FRE - Formulário de Referência\n",
       "21                                                 - \n",
       "22                                                 - \n",
       "23                                           20220101\n",
       "24                                               2022\n",
       "25                                           20220827\n",
       "26                                   27/08/2022 00:05\n",
       "27                                              Ativo\n",
       "28                                                  5\n",
       "29                                                 RE\n",
       "30                                                   \n",
       "31                                                   \n",
       "32                                                   "
      ]
     },
     "execution_count": 9,
     "metadata": {},
     "output_type": "execute_result"
    }
   ],
   "source": [
    "cvm"
   ]
  }
 ],
 "metadata": {
  "kernelspec": {
   "display_name": "Python 3 (ipykernel)",
   "language": "python",
   "name": "python3"
  },
  "language_info": {
   "codemirror_mode": {
    "name": "ipython",
    "version": 3
   },
   "file_extension": ".py",
   "mimetype": "text/x-python",
   "name": "python",
   "nbconvert_exporter": "python",
   "pygments_lexer": "ipython3",
   "version": "3.9.7"
  }
 },
 "nbformat": 4,
 "nbformat_minor": 5
}
